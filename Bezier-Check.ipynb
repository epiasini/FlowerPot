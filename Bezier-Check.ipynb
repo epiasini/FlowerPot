{
 "cells": [
  {
   "cell_type": "code",
   "execution_count": 1,
   "metadata": {},
   "outputs": [],
   "source": [
    "from matplotlib import pyplot as plt\n",
    "import numpy as np\n",
    "\n",
    "import matplotlib.path as mpath\n",
    "import matplotlib.patches as mpatches\n",
    "\n",
    "Path = mpath.Path"
   ]
  },
  {
   "cell_type": "code",
   "execution_count": 29,
   "metadata": {},
   "outputs": [
    {
     "name": "stdout",
     "output_type": "stream",
     "text": [
      "[array([-0.17980737,  1.44951843]), array([0.        , 0.55048157]), array([0.17980737, 1.44951843])]\n"
     ]
    },
    {
     "data": {
      "text/plain": [
       "<matplotlib.patches.PathPatch at 0x7f542856e5f8>"
      ]
     },
     "execution_count": 29,
     "metadata": {},
     "output_type": "execute_result"
    },
    {
     "data": {
      "image/png": "[encoded data removed]",
      "text/plain": [
       "<Figure size 432x288 with 1 Axes>"
      ]
     },
     "metadata": {
      "needs_background": "light"
     },
     "output_type": "display_data"
    },
    {
     "data": {
      "image/png": "[encoded data removed]",
      "text/plain": [
       "<Figure size 432x288 with 1 Axes>"
      ]
     },
     "metadata": {
      "needs_background": "light"
     },
     "output_type": "display_data"
    }
   ],
   "source": [
    "fig, ax = plt.subplots()\n",
    "\n",
    "def c(γ):\n",
    "    return (γ*np.sqrt(1+γ**2)+np.arcsinh(γ))/(2*γ)\n",
    "\n",
    "def χ(t, T=1, γ=5, τ=1):\n",
    "    x = (T/c(γ))*(t-0.5)\n",
    "    y = τ + (T/c(γ))*γ*(t-0.5)**2\n",
    "    return np.vstack((x,y)).T\n",
    "\n",
    "\n",
    "def start_point(T=1, γ=5, τ=1):\n",
    "    return np.array([-T/(2*c(γ)), τ+γ*T/(4*c(γ))])\n",
    "\n",
    "def end_point(T=1, γ=5, τ=1):\n",
    "    return np.array([T/(2*c(γ)), τ+γ*T/(4*c(γ))])\n",
    "\n",
    "def control_point(T=1, γ=5, τ=1):\n",
    "    return np.array([0, τ-γ*T/(4*c(γ))])\n",
    "\n",
    "def flip(xy):\n",
    "    return np.array((xy[0],1-xy[1]))\n",
    "\n",
    "trange = np.linspace(0,1,100)\n",
    "points = χ(trange)\n",
    "\n",
    "ax.plot(points[:,0], points[:,1], linestyle='--', color='r')\n",
    "print([start_point(), control_point(), end_point()])\n",
    "\n",
    "ax.plot(np.linspace(-0.5, 0.5, 100), np.zeros(100))\n",
    "\n",
    "ax.set_xlim([-2,2])\n",
    "ax.set_ylim([-1.5, 2.5])\n",
    "ax.set_aspect('equal')\n",
    "\n",
    "ax.add_patch(mpatches.PathPatch(\n",
    "    Path([start_point(), control_point(), end_point()], [Path.MOVETO, Path.CURVE3, Path.CURVE3]), fc=\"none\", transform=ax.transData))\n",
    "\n",
    "fig, ax = plt.subplots()\n",
    "ax.set_xlim([-2,2])\n",
    "ax.set_ylim([-1.5, 2.5])\n",
    "ax.set_aspect('equal')\n",
    "ax.add_patch(mpatches.PathPatch(\n",
    "    Path([flip(start_point()), flip(control_point()), flip(end_point())], [Path.MOVETO, Path.CURVE3, Path.CURVE3]), fc=\"none\", transform=ax.transData))"
   ]
  },
  {
   "cell_type": "code",
   "execution_count": 22,
   "metadata": {},
   "outputs": [
    {
     "data": {
      "text/plain": [
       "[<matplotlib.lines.Line2D at 0x7f5428b6b908>]"
      ]
     },
     "execution_count": 22,
     "metadata": {},
     "output_type": "execute_result"
    },
    {
     "data": {
      "image/png": "[encoded data removed]",
      "text/plain": [
       "<Figure size 432x288 with 1 Axes>"
      ]
     },
     "metadata": {
      "needs_background": "light"
     },
     "output_type": "display_data"
    }
   ],
   "source": [
    "# compute new coordinates. Box is 800x800 and top left corner is (0,0).\n",
    "# in old coordinates, box is 4x4 and top left corner is (-2,2.5)\n",
    "\n",
    "scale = 800/4 #200\n",
    "\n",
    "def p1(x):\n",
    "    return (x + 2) * scale\n",
    "def p2(y):\n",
    "    return -(y - 2.5) * scale\n",
    "def p(xy):\n",
    "    return np.array((p1(xy[0]), p2(xy[1])))\n",
    "\n",
    "fig, ax = plt.subplots()\n",
    "ax.set_xlim([0,800])\n",
    "ax.set_ylim([0,800])\n",
    "ax.invert_yaxis()\n",
    "ax.set_aspect('equal')\n",
    "\n",
    "ax.plot(p1(points[:,0]), p2(points[:,1]), linestyle='--', color='r')"
   ]
  },
  {
   "cell_type": "code",
   "execution_count": 30,
   "metadata": {},
   "outputs": [
    {
     "name": "stdout",
     "output_type": "stream",
     "text": [
      "------Unflipped parabola-------\n",
      "Start: [364.03852527 210.09631317]\n",
      "End: [435.96147473 210.09631317]\n",
      "Control: [400.         389.90368683]\n",
      "\n",
      "------Flipped parabola-------\n",
      "Start: [364.03852527 589.90368683]\n",
      "End: [435.96147473 589.90368683]\n",
      "Control: [400.         410.09631317]\n"
     ]
    }
   ],
   "source": [
    "print(\"------Unflipped parabola-------\")\n",
    "print(\"Start: {}\".format(p(start_point())))\n",
    "print(\"Control: {}\".format(p(control_point())))\n",
    "print(\"End: {}\".format(p(end_point())))\n",
    "print(\"\\n------Flipped parabola-------\")\n",
    "print(\"Start: {}\".format(p(flip(start_point()))))\n",
    "print(\"Control: {}\".format(p(flip(control_point()))))\n",
    "print(\"End: {}\".format(p(flip(end_point()))))"
   ]
  },
  {
   "cell_type": "code",
   "execution_count": null,
   "metadata": {},
   "outputs": [],
   "source": []
  }
 ],
 "metadata": {
  "kernelspec": {
   "display_name": "Comploptim",
   "language": "python",
   "name": "python3"
  },
  "language_info": {
   "codemirror_mode": {
    "name": "ipython",
    "version": 3
   },
   "file_extension": ".py",
   "mimetype": "text/x-python",
   "name": "python",
   "nbconvert_exporter": "python",
   "pygments_lexer": "ipython3",
   "version": "3.6.9"
  }
 },
 "nbformat": 4,
 "nbformat_minor": 4
}
