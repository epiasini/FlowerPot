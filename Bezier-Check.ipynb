{
 "cells": [
  {
   "cell_type": "code",
   "execution_count": 1,
   "metadata": {},
   "outputs": [],
   "source": [
    "from matplotlib import pyplot as plt\n",
    "import numpy as np\n",
    "\n",
    "import matplotlib.path as mpath\n",
    "import matplotlib.patches as mpatches\n",
    "\n",
    "Path = mpath.Path"
   ]
  },
  {
   "cell_type": "markdown",
   "metadata": {},
   "source": [
    "# Define coordinate transformation\n",
    "\n",
    "We will call $(x,y)$ the original coordinates and $p=(p_1, p_2)$ the pixel coordinates. The canvas size in pixels is $800\\times 800$, with the origin in the top left corner, the $p_1$ coordinate increasing from left to right and the $p_2$ coordinate increasing from top to bottom. The size of the box in original coordinates is $8x8$, with the coordinate ranges being $[-4,4]$ for $x$ and $[-3.5,4.5]$ for $y$ (so the top left corner corresponds to $(x,y)=(-4,4.5)$). The $x$ coordinate increasing left to right and the $y$ coordinate increasing bottom to top.\n",
    "\n",
    "From the definitions above, we immediately read off the coordinate transformation as a translation combined with a reflection wrt the x axis and a scaling. In formulae:"
   ]
  },
  {
   "cell_type": "code",
   "execution_count": 2,
   "metadata": {},
   "outputs": [],
   "source": [
    "scale = 800/8\n",
    "xlims = (-4,4)\n",
    "ylims = (-3.5, 4.5)\n",
    "top_left_xy = (xlims[0], ylims[1])\n",
    "\n",
    "def p1(x):\n",
    "    return (x - top_left_xy[0]) * scale\n",
    "def p2(y):\n",
    "    return -(y - top_left_xy[1]) * scale\n",
    "def p(xy):\n",
    "    return np.array((p1(xy[0]), p2(xy[1])))\n",
    "\n",
    "def flip(xy):\n",
    "    return np.array((xy[0],1-xy[1]))"
   ]
  },
  {
   "cell_type": "markdown",
   "metadata": {},
   "source": [
    "# Compute expression of parabola as Bézier curve\n",
    "Display the curve as both a direct mpl plot from the original expression and a quadratic Bézier curve, to make sure we have the correct values for the start, stop and control points."
   ]
  },
  {
   "cell_type": "code",
   "execution_count": 3,
   "metadata": {},
   "outputs": [
    {
     "name": "stdout",
     "output_type": "stream",
     "text": [
      "[array([-0.17980737,  1.44951843]), array([0.        , 0.55048157]), array([0.17980737, 1.44951843])]\n"
     ]
    },
    {
     "data": {
      "text/plain": [
       "<matplotlib.patches.PathPatch at 0x7f0240053550>"
      ]
     },
     "execution_count": 3,
     "metadata": {},
     "output_type": "execute_result"
    },
    {
     "data": {
      "image/png": "[encoded data removed]",
      "text/plain": [
       "<Figure size 432x288 with 1 Axes>"
      ]
     },
     "metadata": {
      "needs_background": "light"
     },
     "output_type": "display_data"
    },
    {
     "data": {
      "image/png": "[encoded data removed]",
      "text/plain": [
       "<Figure size 432x288 with 1 Axes>"
      ]
     },
     "metadata": {
      "needs_background": "light"
     },
     "output_type": "display_data"
    }
   ],
   "source": [
    "def c(γ):\n",
    "    return (γ*np.sqrt(1+γ**2)+np.arcsinh(γ))/(2*γ)\n",
    "\n",
    "def χ(t, T=1, γ=5, τ=1):\n",
    "    x = (T/c(γ))*(t-0.5)\n",
    "    y = τ + (T/c(γ))*γ*(t-0.5)**2\n",
    "    return np.vstack((x,y)).T\n",
    "\n",
    "\n",
    "def start_point(T=1, γ=5, τ=1):\n",
    "    return np.array([-T/(2*c(γ)), τ+γ*T/(4*c(γ))])\n",
    "\n",
    "def end_point(T=1, γ=5, τ=1):\n",
    "    return np.array([T/(2*c(γ)), τ+γ*T/(4*c(γ))])\n",
    "\n",
    "def control_point(T=1, γ=5, τ=1):\n",
    "    return np.array([0, τ-γ*T/(4*c(γ))])\n",
    "\n",
    "\n",
    "trange = np.linspace(0,1,100)\n",
    "points = χ(trange)\n",
    "\n",
    "\n",
    "fig, ax = plt.subplots()\n",
    "ax.plot(points[:,0], points[:,1], linestyle='--', color='r')\n",
    "print([start_point(), control_point(), end_point()])\n",
    "\n",
    "ax.plot(np.linspace(-0.5, 0.5, 100), np.zeros(100))\n",
    "\n",
    "# unflipped\n",
    "ax.set_xlim(xlims)\n",
    "ax.set_ylim(ylims)\n",
    "ax.set_aspect('equal')\n",
    "ax.add_patch(mpatches.PathPatch(\n",
    "    Path([start_point(), control_point(), end_point()], [Path.MOVETO, Path.CURVE3, Path.CURVE3]), fc=\"none\", transform=ax.transData))\n",
    "\n",
    "# flipped\n",
    "fig, ax = plt.subplots()\n",
    "ax.set_xlim(xlims)\n",
    "ax.set_ylim(ylims)\n",
    "ax.set_aspect('equal')\n",
    "ax.add_patch(mpatches.PathPatch(\n",
    "    Path([flip(start_point()), flip(control_point()), flip(end_point())], [Path.MOVETO, Path.CURVE3, Path.CURVE3]), fc=\"none\", transform=ax.transData))"
   ]
  },
  {
   "cell_type": "markdown",
   "metadata": {},
   "source": [
    "## Display parabola in transformed coordinates\n",
    "This should look exactly as above, only in the new pixel-based coordinate system."
   ]
  },
  {
   "cell_type": "code",
   "execution_count": 4,
   "metadata": {},
   "outputs": [
    {
     "data": {
      "text/plain": [
       "[<matplotlib.lines.Line2D at 0x7f022b726438>]"
      ]
     },
     "execution_count": 4,
     "metadata": {},
     "output_type": "execute_result"
    },
    {
     "data": {
      "image/png": "[encoded data removed]",
      "text/plain": [
       "<Figure size 432x288 with 1 Axes>"
      ]
     },
     "metadata": {
      "needs_background": "light"
     },
     "output_type": "display_data"
    }
   ],
   "source": [
    "fig, ax = plt.subplots()\n",
    "ax.set_xlim([0,800])\n",
    "ax.set_ylim([0,800])\n",
    "ax.invert_yaxis() # we need to invert the y axis to mimic the convention used by Fabric\n",
    "ax.set_aspect('equal')\n",
    "\n",
    "ax.plot(p1(points[:,0]), p2(points[:,1]), linestyle='--', color='r')"
   ]
  },
  {
   "cell_type": "markdown",
   "metadata": {},
   "source": [
    "# Coordinates for all models, flipped and unflipped version"
   ]
  },
  {
   "cell_type": "code",
   "execution_count": 5,
   "metadata": {},
   "outputs": [],
   "source": [
    "base_start = (-0.5, 0)\n",
    "base_end = (0.5, 0)\n",
    "horizontal_start = (-1.5, 1)\n",
    "horizontal_end = (1.5, 1)\n",
    "vertical_start = (0, 1)\n",
    "vertical_end = (0, 2)\n",
    "point = (0, 1)"
   ]
  },
  {
   "cell_type": "code",
   "execution_count": 6,
   "metadata": {},
   "outputs": [
    {
     "name": "stdout",
     "output_type": "stream",
     "text": [
      "------Unflipped base-------\n",
      "Start: [350. 450.]\n",
      "End: [450. 450.]\n",
      "\n",
      "------Flipped base-------\n",
      "Start: [350. 350.]\n",
      "End: [450. 350.]\n",
      "\n",
      "-----Unflipped horizontal-------\n",
      "Start: [250. 350.]\n",
      "End: [550. 350.]\n",
      "\n",
      "------Flipped horizontal-------\n",
      "Start: [250. 450.]\n",
      "End: [550. 450.]\n",
      "\n",
      "-----Unflipped vertical-------\n",
      "Start: [400. 350.]\n",
      "End: [400. 250.]\n",
      "\n",
      "------Flipped vertical-------\n",
      "Start: [400. 450.]\n",
      "End: [400. 550.]\n",
      "\n",
      "------Unflipped parabola-------\n",
      "Start: [382.01926263 305.04815658]\n",
      "Control: [400.         394.95184342]\n",
      "End: [417.98073737 305.04815658]\n",
      "\n",
      "------Flipped parabola------\n",
      "Start: [382.01926263 494.95184342]\n",
      "Control: [400.         405.04815658]\n",
      "End: [417.98073737 494.95184342]\n",
      "\n",
      "------Unflipped point-------\n",
      "Location: [400. 350.]\n",
      "\n",
      "------Flipped point-------\n",
      "Location: [400. 450.]\n",
      "\n"
     ]
    }
   ],
   "source": [
    "print(\n",
    "\"------Unflipped base-------\\n\\\n",
    "Start: {}\\n\\\n",
    "End: {}\\n\\\n",
    "\\n------Flipped base-------\\n\\\n",
    "Start: {}\\n\\\n",
    "End: {}\\n\\\n",
    "\\n-----Unflipped horizontal-------\\n\\\n",
    "Start: {}\\n\\\n",
    "End: {}\\n\\\n",
    "\\n------Flipped horizontal-------\\n\\\n",
    "Start: {}\\n\\\n",
    "End: {}\\n\\\n",
    "\\n-----Unflipped vertical-------\\n\\\n",
    "Start: {}\\n\\\n",
    "End: {}\\n\\\n",
    "\\n------Flipped vertical-------\\n\\\n",
    "Start: {}\\n\\\n",
    "End: {}\\n\\\n",
    "\\n------Unflipped parabola-------\\n\\\n",
    "Start: {}\\n\\\n",
    "Control: {}\\n\\\n",
    "End: {}\\n\\\n",
    "\\n------Flipped parabola------\\n\\\n",
    "Start: {}\\n\\\n",
    "Control: {}\\n\\\n",
    "End: {}\\n\\\n",
    "\\n------Unflipped point-------\\n\\\n",
    "Location: {}\\n\\\n",
    "\\n------Flipped point-------\\n\\\n",
    "Location: {}\\n\".format(\n",
    "    p(base_start),\n",
    "    p(base_end),\n",
    "    p(flip(base_start)),\n",
    "    p(flip(base_end)),\n",
    "    p(horizontal_start),\n",
    "    p(horizontal_end),\n",
    "    p(flip(horizontal_start)),\n",
    "    p(flip(horizontal_end)),  \n",
    "    p(vertical_start),\n",
    "    p(vertical_end),\n",
    "    p(flip(vertical_start)),\n",
    "    p(flip(vertical_end)),\n",
    "    p(start_point()),\n",
    "    p(control_point()),\n",
    "    p(end_point()),\n",
    "    p(flip(start_point())),\n",
    "    p(flip(control_point())),\n",
    "    p(flip(end_point())),\n",
    "    p(point),\n",
    "    p(flip(point))\n",
    "    ))"
   ]
  },
  {
   "cell_type": "code",
   "execution_count": null,
   "metadata": {},
   "outputs": [],
   "source": []
  }
 ],
 "metadata": {
  "kernelspec": {
   "display_name": "Comploptim",
   "language": "python",
   "name": "python3"
  },
  "language_info": {
   "codemirror_mode": {
    "name": "ipython",
    "version": 3
   },
   "file_extension": ".py",
   "mimetype": "text/x-python",
   "name": "python",
   "nbconvert_exporter": "python",
   "pygments_lexer": "ipython3",
   "version": "3.6.9"
  }
 },
 "nbformat": 4,
 "nbformat_minor": 4
}
